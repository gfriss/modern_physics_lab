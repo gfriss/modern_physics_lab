{
 "cells": [
  {
   "cell_type": "code",
   "execution_count": 1,
   "metadata": {},
   "outputs": [],
   "source": [
    "import numpy as np\n",
    "import matplotlib.pyplot as plt\n",
    "from scipy.interpolate import interp1d"
   ]
  },
  {
   "cell_type": "code",
   "execution_count": 2,
   "metadata": {},
   "outputs": [],
   "source": [
    "d = 1e-6\n",
    "theta_Cd = np.array([27.842, 28.792, 30.658, 40.083])  #fokba váltottam a jobb és bal oldali átlagát\n",
    "#legnagyobb hiba 2.5' = 0.042 fok\n",
    "l_m_Cd = d * np.sin(theta_Cd * np.pi / 180) * 1e9   #mért hullámhossz\n",
    "l_i_Cd = np.array([467.82, 479.99, 508.58, 643.85])  #irodalmi hullámhossz\n",
    "#http://metal.elte.hu/oktatas/alkfizlab/meresleirasok/Afuggelek.pdf"
   ]
  },
  {
   "cell_type": "code",
   "execution_count": 3,
   "metadata": {},
   "outputs": [
    {
     "name": "stdout",
     "output_type": "stream",
     "text": [
      "[467.0349467  481.63131391 509.91247616 643.89664466]\n"
     ]
    }
   ],
   "source": [
    "print(l_m_Cd)"
   ]
  },
  {
   "cell_type": "code",
   "execution_count": 4,
   "metadata": {},
   "outputs": [
    {
     "name": "stdout",
     "output_type": "stream",
     "text": [
      "[-0.7850533   1.64131391  1.33247616  0.04664466]\n"
     ]
    }
   ],
   "source": [
    "delta = l_m_Cd - l_i_Cd\n",
    "print(delta)"
   ]
  },
  {
   "cell_type": "code",
   "execution_count": 5,
   "metadata": {},
   "outputs": [
    {
     "data": {
      "image/png": "[encoded data removed]",
      "text/plain": [
       "<Figure size 432x288 with 1 Axes>"
      ]
     },
     "metadata": {
      "needs_background": "light"
     },
     "output_type": "display_data"
    }
   ],
   "source": [
    "plt.plot(l_m_Cd, delta, marker = 'o', linestyle = '')\n",
    "plt.xlabel('hullámhossz[nm]', fontsize = 15)\n",
    "plt.ylabel('eltérés[nm]', fontsize = 15)\n",
    "plt.savefig('elteres.eps')"
   ]
  },
  {
   "cell_type": "code",
   "execution_count": 6,
   "metadata": {},
   "outputs": [
    {
     "name": "stderr",
     "output_type": "stream",
     "text": [
      "/home/friss/anaconda3/lib/python3.7/site-packages/ipykernel_launcher.py:1: DeprecationWarning: object of type <class 'float'> cannot be safely interpreted as an integer.\n",
      "  \"\"\"Entry point for launching an IPython kernel.\n"
     ]
    }
   ],
   "source": [
    "l = np.linspace(l_m_Cd[0], l_m_Cd[3], 1e4)\n",
    "ip = interp1d(l_m_Cd, delta)"
   ]
  },
  {
   "cell_type": "code",
   "execution_count": 7,
   "metadata": {},
   "outputs": [
    {
     "data": {
      "image/png": "[encoded data removed]",
      "text/plain": [
       "<Figure size 432x288 with 1 Axes>"
      ]
     },
     "metadata": {
      "needs_background": "light"
     },
     "output_type": "display_data"
    }
   ],
   "source": [
    "plt.plot(l_m_Cd, delta, marker = 'o', linestyle = '', label = 'adatok')\n",
    "plt.plot(l, ip(l), label = 'lineáris interpoláció')\n",
    "plt.xlabel('hullámhossz[nm]', fontsize = 15)\n",
    "plt.ylabel('eltérés[nm]', fontsize = 15)\n",
    "plt.legend()\n",
    "plt.savefig('elteres_ip.eps')"
   ]
  },
  {
   "cell_type": "code",
   "execution_count": 8,
   "metadata": {},
   "outputs": [],
   "source": [
    "theta_HD = np.array([23.458, 24.333, 32.333, 33.1, 38.067, 41.067])\n",
    "l_m_HD = d * np.sin(theta_HD * np.pi / 180) * 1e9 #H-D-lámpa hullámhosszai nm-ben"
   ]
  },
  {
   "cell_type": "code",
   "execution_count": 9,
   "metadata": {},
   "outputs": [
    {
     "name": "stdout",
     "output_type": "stream",
     "text": [
      "[398.07672171 412.03922092 534.8390966  546.10196101 616.58253079\n",
      " 656.94111543]\n"
     ]
    }
   ],
   "source": [
    "print(l_m_HD)"
   ]
  },
  {
   "cell_type": "code",
   "execution_count": 10,
   "metadata": {},
   "outputs": [],
   "source": [
    "l_HD = [] #hullámhosszak, amik korrigálhatók\n",
    "for i in range(len(l_m_HD)):\n",
    "    if l_m_HD[i] > l_m_Cd[0] and l_m_HD[i] < l_m_Cd[3]:\n",
    "        l_HD.append(l_m_HD[i])\n",
    "l_HD = np.array(l_HD)"
   ]
  },
  {
   "cell_type": "code",
   "execution_count": 11,
   "metadata": {},
   "outputs": [
    {
     "name": "stdout",
     "output_type": "stream",
     "text": [
      "[534.8390966  546.10196101 616.58253079]\n"
     ]
    }
   ],
   "source": [
    "print(l_HD)"
   ]
  },
  {
   "cell_type": "code",
   "execution_count": 12,
   "metadata": {},
   "outputs": [
    {
     "name": "stdout",
     "output_type": "stream",
     "text": [
      "[535.9323547  547.08713063 616.89130603]\n"
     ]
    }
   ],
   "source": [
    "l_korr_HD = l_HD + ip(l_HD) #korrigált hullámhosszak\n",
    "print(l_korr_HD)"
   ]
  },
  {
   "cell_type": "code",
   "execution_count": 13,
   "metadata": {},
   "outputs": [],
   "source": [
    "def Rydberg(lam, m):\n",
    "    return 1/(lam * (1/4 - 1/(m**2)))"
   ]
  },
  {
   "cell_type": "code",
   "execution_count": 14,
   "metadata": {},
   "outputs": [
    {
     "name": "stdout",
     "output_type": "stream",
     "text": [
      "10959886.40522928\n"
     ]
    }
   ],
   "source": [
    "R1 = Rydberg(l_m_HD[5] * 1e-9, 3)\n",
    "print(R1)"
   ]
  },
  {
   "cell_type": "code",
   "execution_count": 15,
   "metadata": {},
   "outputs": [
    {
     "name": "stdout",
     "output_type": "stream",
     "text": [
      "10941497.75166968\n"
     ]
    }
   ],
   "source": [
    "R2 = Rydberg(l_m_HD[0] * 1e-9, 7)\n",
    "print(R2)"
   ]
  },
  {
   "cell_type": "code",
   "execution_count": 16,
   "metadata": {},
   "outputs": [
    {
     "name": "stdout",
     "output_type": "stream",
     "text": [
      "10921290.429356622\n"
     ]
    }
   ],
   "source": [
    "R3 = Rydberg(l_m_HD[1] * 1e-9, 6)\n",
    "print(R3)"
   ]
  },
  {
   "cell_type": "code",
   "execution_count": 17,
   "metadata": {},
   "outputs": [
    {
     "data": {
      "text/plain": [
       "10940891.52875186"
      ]
     },
     "execution_count": 17,
     "metadata": {},
     "output_type": "execute_result"
    }
   ],
   "source": [
    "Rm = (R1 + R2 + R3)/3\n",
    "Rm"
   ]
  },
  {
   "cell_type": "code",
   "execution_count": 18,
   "metadata": {},
   "outputs": [
    {
     "name": "stdout",
     "output_type": "stream",
     "text": [
      "19601.099395237863\n"
     ]
    }
   ],
   "source": [
    "deltaR = [abs(R1-Rm), abs(R2-Rm), abs(R3-Rm)] #átlagtól való eltéréss\n",
    "print(max(deltaR))"
   ]
  },
  {
   "cell_type": "code",
   "execution_count": 19,
   "metadata": {},
   "outputs": [
    {
     "data": {
      "text/plain": [
       "22171.985723699836"
      ]
     },
     "execution_count": 19,
     "metadata": {},
     "output_type": "execute_result"
    }
   ],
   "source": [
    "R1/(l_m_HD[5] * 1e-9) * 1.329 * 1e-9 #deriválással számolt hibák"
   ]
  },
  {
   "cell_type": "code",
   "execution_count": 20,
   "metadata": {},
   "outputs": [
    {
     "data": {
      "text/plain": [
       "36528.76372572883"
      ]
     },
     "execution_count": 20,
     "metadata": {},
     "output_type": "execute_result"
    }
   ],
   "source": [
    "R2/(l_m_HD[0] * 1e-9) * 1.329 * 1e-9"
   ]
  },
  {
   "cell_type": "code",
   "execution_count": 21,
   "metadata": {},
   "outputs": [
    {
     "data": {
      "text/plain": [
       "35225.76066437597"
      ]
     },
     "execution_count": 21,
     "metadata": {},
     "output_type": "execute_result"
    }
   ],
   "source": [
    "R3/(l_m_HD[1] * 1e-9) * 1.329 * 1e-9"
   ]
  },
  {
   "cell_type": "code",
   "execution_count": 22,
   "metadata": {},
   "outputs": [
    {
     "data": {
      "text/plain": [
       "1.3288976453466395"
      ]
     },
     "execution_count": 22,
     "metadata": {},
     "output_type": "execute_result"
    }
   ],
   "source": [
    "d * np.cos(23.458 * np.pi / 180) * (0.083 * np.pi / 180) * 1e9 #hulámhosszak hibái"
   ]
  },
  {
   "cell_type": "code",
   "execution_count": 23,
   "metadata": {},
   "outputs": [
    {
     "data": {
      "text/plain": [
       "1.3199364384473637"
      ]
     },
     "execution_count": 23,
     "metadata": {},
     "output_type": "execute_result"
    }
   ],
   "source": [
    "d * np.cos(24.333 * np.pi / 180) * (0.083 * np.pi / 180) * 1e9"
   ]
  },
  {
   "cell_type": "code",
   "execution_count": 24,
   "metadata": {},
   "outputs": [
    {
     "data": {
      "text/plain": [
       "1.092177770453185"
      ]
     },
     "execution_count": 24,
     "metadata": {},
     "output_type": "execute_result"
    }
   ],
   "source": [
    "d * np.cos(41.067 * np.pi / 180) * (0.083 * np.pi / 180) * 1e9"
   ]
  },
  {
   "cell_type": "code",
   "execution_count": null,
   "metadata": {},
   "outputs": [],
   "source": []
  }
 ],
 "metadata": {
  "kernelspec": {
   "display_name": "Python 3",
   "language": "python",
   "name": "python3"
  },
  "language_info": {
   "codemirror_mode": {
    "name": "ipython",
    "version": 3
   },
   "file_extension": ".py",
   "mimetype": "text/x-python",
   "name": "python",
   "nbconvert_exporter": "python",
   "pygments_lexer": "ipython3",
   "version": "3.7.1"
  }
 },
 "nbformat": 4,
 "nbformat_minor": 2
}
